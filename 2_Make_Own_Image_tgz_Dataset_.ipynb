{
  "nbformat": 4,
  "nbformat_minor": 0,
  "metadata": {
    "colab": {
      "name": "2. Make Own Image tgz Dataset .ipynb",
      "provenance": [],
      "collapsed_sections": []
    },
    "kernelspec": {
      "name": "python3",
      "display_name": "Python 3"
    },
    "language_info": {
      "name": "python"
    }
  },
  "cells": [
    {
      "cell_type": "markdown",
      "source": [
        "1. 저장공간 : 로그인된 구글 드라이브"
      ],
      "metadata": {
        "id": "XvYFYzqzRrN-"
      }
    },
    {
      "cell_type": "code",
      "execution_count": null,
      "metadata": {
        "colab": {
          "base_uri": "https://localhost:8080/"
        },
        "id": "f9guPqPpvCCp",
        "outputId": "a895248a-d9cd-49ca-b8e3-e494836b6005"
      },
      "outputs": [
        {
          "output_type": "stream",
          "name": "stdout",
          "text": [
            "Mounted at /content/drive\n"
          ]
        }
      ],
      "source": [
        "from google.colab import drive\n",
        "drive.mount('/content/drive')"
      ]
    },
    {
      "cell_type": "markdown",
      "source": [
        "2. 검색어 설정 & Imagescraper Import"
      ],
      "metadata": {
        "id": "s1jTJH_mR1Mq"
      }
    },
    {
      "cell_type": "code",
      "source": [
        "search_terms = \"concrete crack surface, concrete wall crack\" \n",
        "project = \"concrete\""
      ],
      "metadata": {
        "id": "4k_wEW4Yvn-F"
      },
      "execution_count": null,
      "outputs": []
    },
    {
      "cell_type": "code",
      "source": [
        "!pip install -Uqq fastai --upgrade\n",
        "!pip install -Uqq jmd_imagescraper"
      ],
      "metadata": {
        "colab": {
          "base_uri": "https://localhost:8080/"
        },
        "id": "5Ci1OaiNvzVr",
        "outputId": "b743d949-3c37-4f04-88c2-52ae8fb570e1"
      },
      "execution_count": null,
      "outputs": [
        {
          "output_type": "stream",
          "name": "stdout",
          "text": [
            "\u001b[K     |████████████████████████████████| 197 kB 8.2 MB/s \n",
            "\u001b[K     |████████████████████████████████| 60 kB 8.4 MB/s \n",
            "\u001b[?25h"
          ]
        }
      ]
    },
    {
      "cell_type": "markdown",
      "source": [
        "3. 검색어별 Dataset 제작"
      ],
      "metadata": {
        "id": "gP7HWosRR6lp"
      }
    },
    {
      "cell_type": "code",
      "source": [
        "from pathlib import Path\n",
        "from jmd_imagescraper.core import *\n",
        "path = Path(project)\n",
        "params = {\n",
        "    \"max_results\": 500,\n",
        "    \"img_size\":    ImgSize.Cached, \n",
        "    \"img_type\":    ImgType.Photo,\n",
        "    \"img_layout\":  ImgLayout.Square,\n",
        "    \"img_color\":   ImgColor.All,\n",
        "    \"uuid_names\": True\n",
        "}\n",
        "search_items = [term.strip() for term in search_terms.split(',')]\n",
        "all_imgs = []\n",
        "folder_path = f'build-your-own-image-classifier/data/{project}'  \n",
        "file_name = f'{project}.tgz' \n",
        "print('Image Counts:')\n",
        "for search_item in search_items:\n",
        "    imgs = duckduckgo_search(path, search_item, search_item, **params)\n",
        "    img_counts = len(imgs)\n",
        "    all_imgs.extend(imgs)\n",
        "    print(f'{search_item} : {img_counts}')"
      ],
      "metadata": {
        "colab": {
          "base_uri": "https://localhost:8080/",
          "height": 186
        },
        "id": "DYRLYqf5v1mB",
        "outputId": "eb713b21-fe72-4048-e532-bf4b67e1d3d4"
      },
      "execution_count": null,
      "outputs": [
        {
          "output_type": "stream",
          "name": "stdout",
          "text": [
            "Image Counts:\n",
            "Duckduckgo search: concrete crack surface\n",
            "Downloading results into concrete/concrete crack surface\n"
          ]
        },
        {
          "output_type": "display_data",
          "data": {
            "text/plain": [
              "<IPython.core.display.HTML object>"
            ],
            "text/html": [
              "\n",
              "<style>\n",
              "    /* Turns off some styling */\n",
              "    progress {\n",
              "        /* gets rid of default border in Firefox and Opera. */\n",
              "        border: none;\n",
              "        /* Needs to be in here for Safari polyfill so background images work as expected. */\n",
              "        background-size: auto;\n",
              "    }\n",
              "    .progress-bar-interrupted, .progress-bar-interrupted::-webkit-progress-bar {\n",
              "        background: #F44336;\n",
              "    }\n",
              "</style>\n"
            ]
          },
          "metadata": {}
        },
        {
          "output_type": "display_data",
          "data": {
            "text/plain": [
              "<IPython.core.display.HTML object>"
            ],
            "text/html": [
              "\n",
              "    <div>\n",
              "      <progress value='500' class='' max='500' style='width:300px; height:20px; vertical-align: middle;'></progress>\n",
              "      100.00% [500/500 00:48<00:00 Images downloaded]\n",
              "    </div>\n",
              "    "
            ]
          },
          "metadata": {}
        },
        {
          "output_type": "stream",
          "name": "stdout",
          "text": [
            "concrete crack surface : 500\n",
            "Duckduckgo search: concrete wall crack\n",
            "Downloading results into concrete/concrete wall crack\n"
          ]
        },
        {
          "output_type": "display_data",
          "data": {
            "text/plain": [
              "<IPython.core.display.HTML object>"
            ],
            "text/html": [
              "\n",
              "<style>\n",
              "    /* Turns off some styling */\n",
              "    progress {\n",
              "        /* gets rid of default border in Firefox and Opera. */\n",
              "        border: none;\n",
              "        /* Needs to be in here for Safari polyfill so background images work as expected. */\n",
              "        background-size: auto;\n",
              "    }\n",
              "    .progress-bar-interrupted, .progress-bar-interrupted::-webkit-progress-bar {\n",
              "        background: #F44336;\n",
              "    }\n",
              "</style>\n"
            ]
          },
          "metadata": {}
        },
        {
          "output_type": "display_data",
          "data": {
            "text/plain": [
              "<IPython.core.display.HTML object>"
            ],
            "text/html": [
              "\n",
              "    <div>\n",
              "      <progress value='500' class='' max='500' style='width:300px; height:20px; vertical-align: middle;'></progress>\n",
              "      100.00% [500/500 00:47<00:00 Images downloaded]\n",
              "    </div>\n",
              "    "
            ]
          },
          "metadata": {}
        },
        {
          "output_type": "stream",
          "name": "stdout",
          "text": [
            "concrete wall crack : 500\n"
          ]
        }
      ]
    },
    {
      "cell_type": "markdown",
      "source": [
        "4. 로그인된 구글 드라이브에 Dataset 저장"
      ],
      "metadata": {
        "id": "wnaGFi09SE-r"
      }
    },
    {
      "cell_type": "code",
      "source": [
        "!tar -czf {project}.tgz {project}\n",
        "!mkdir -p /content/drive/My\\ Drive/{folder_path}\n",
        "!cp {file_name} /content/drive/My\\ Drive/{folder_path}"
      ],
      "metadata": {
        "id": "aLwGJAvVwIWc"
      },
      "execution_count": null,
      "outputs": []
    },
    {
      "cell_type": "code",
      "source": [
        "print(f'DONE!, Your image dataset has been saved in your Google Drive/My Drive/{folder_path}/{project}.tgz')"
      ],
      "metadata": {
        "id": "G5CU95f_wPUl"
      },
      "execution_count": null,
      "outputs": []
    }
  ]
}